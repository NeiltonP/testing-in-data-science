{
 "cells": [
  {
   "cell_type": "markdown",
   "metadata": {
    "slideshow": {
     "slide_type": "skip"
    }
   },
   "source": [
    "To play slideshow, run this command in the terminal:\n",
    "```\n",
    "$ jupyter nbconvert intro-to-testing-presentation.ipynb --to slides --post serve --SlidesExporter.reveal_theme=night --SlidesExporter.reveal_transition=none\n",
    "```"
   ]
  },
  {
   "cell_type": "markdown",
   "metadata": {
    "slideshow": {
     "slide_type": "slide"
    }
   },
   "source": [
    "# The Role of Testing in Data Science\n",
    "\n",
    "Jes Ford, PhD\n",
    "\n",
    "Data Scientist\n",
    "\n",
    "<img src=\"img/pytest.png\">"
   ]
  },
  {
   "cell_type": "markdown",
   "metadata": {
    "collapsed": true,
    "slideshow": {
     "slide_type": "slide"
    }
   },
   "source": [
    "# About Me\n",
    "\n",
    "- Originally from Alaska, have followed the snow all around the western US/Canada\n",
    "- PhD in Astrophysics from UBC, Vancouver\n",
    "- Postdoc in Data Science at UW, Seattle\n",
    "- Moved to UT to snowboard and be a Data Scientist at Backountry.com $\\rightarrow$ now at Recursion Pharma\n",
    "- I love teaching and learning about things including Python\n",
    "- I organize this PyLadies chapter\n",
    "\n",
    "<!--- <table><tr>\n",
    "<td> <img src=\"https://jesford.github.io/photos/cfht_and_me.jpg\" alt=\"Drawing\" style=\"width: 200px;\"/> </td>\n",
    "<td> <img src=\"https://jesford.github.io/photos/Jess_Ford_SSS_cbox_BSlide.jpg\" alt=\"Drawing\" style=\"width: 142px;\"/> </td>\n",
    "<td> <img src=\"https://jesford.github.io/photos/toki_lions.jpg\" alt=\"Drawing\" style=\"width: 315px;\"/> </td>\n",
    "</tr></table> --->"
   ]
  },
  {
   "cell_type": "markdown",
   "metadata": {
    "slideshow": {
     "slide_type": "slide"
    }
   },
   "source": [
    "## Why talk about testing?"
   ]
  },
  {
   "cell_type": "markdown",
   "metadata": {
    "slideshow": {
     "slide_type": "fragment"
    }
   },
   "source": [
    "I care about code quality...\n",
    "\n",
    "meaning clean code\\* that gives *correct results*"
   ]
  },
  {
   "cell_type": "markdown",
   "metadata": {
    "slideshow": {
     "slide_type": "fragment"
    }
   },
   "source": [
    "\\* topic for another day: PEP8, code is read much more often than it is written!"
   ]
  },
  {
   "cell_type": "markdown",
   "metadata": {
    "slideshow": {
     "slide_type": "slide"
    }
   },
   "source": [
    "## Why test?\n",
    "\n",
    "- Tests can give you evidence that your code is working as expected\n",
    "- Tests give you confidence to make changes without fear of breaking something\n",
    "- Tests make other people trust your code more\n",
    "- ... however bad tests can give you false confidence"
   ]
  },
  {
   "cell_type": "markdown",
   "metadata": {
    "slideshow": {
     "slide_type": "slide"
    }
   },
   "source": [
    "## Why *not* test?\n",
    "\n",
    "- Writing tests takes time!\n",
    "- As a data scientist I am constantly struggling with these competing goals:\n",
    "\n",
    "  - getting results as quickly as possible\n",
    "  - being as confident as possible that I've got the right answer\n",
    "  \n",
    "$\\rightarrow$ How do we balance these interests in the optimal way?"
   ]
  },
  {
   "cell_type": "markdown",
   "metadata": {
    "slideshow": {
     "slide_type": "slide"
    }
   },
   "source": [
    "## In this talk...\n"
   ]
  },
  {
   "cell_type": "markdown",
   "metadata": {
    "slideshow": {
     "slide_type": "fragment"
    }
   },
   "source": [
    "- I will *not* insist that you always write tests"
   ]
  },
  {
   "cell_type": "markdown",
   "metadata": {
    "slideshow": {
     "slide_type": "fragment"
    }
   },
   "source": [
    "- I will describe different scenarios I find myself in as a data scientist and how I try to be confident that my results are correct"
   ]
  },
  {
   "cell_type": "markdown",
   "metadata": {
    "slideshow": {
     "slide_type": "fragment"
    }
   },
   "source": [
    "- I will show you how to get started testing "
   ]
  },
  {
   "cell_type": "markdown",
   "metadata": {
    "slideshow": {
     "slide_type": "slide"
    }
   },
   "source": [
    "## Disclaimer"
   ]
  },
  {
   "cell_type": "markdown",
   "metadata": {
    "slideshow": {
     "slide_type": "fragment"
    }
   },
   "source": [
    "- I am not a testing expert or a software engineer"
   ]
  },
  {
   "cell_type": "markdown",
   "metadata": {
    "slideshow": {
     "slide_type": "fragment"
    }
   },
   "source": [
    "- These *opinions* are based on my own experience as a data scientist"
   ]
  },
  {
   "cell_type": "markdown",
   "metadata": {
    "slideshow": {
     "slide_type": "fragment"
    }
   },
   "source": [
    "- \"data science\" covers a huge range of job duties and formal testing is less important in some of them (one-off analyses vs committing to production code base)"
   ]
  },
  {
   "cell_type": "markdown",
   "metadata": {
    "slideshow": {
     "slide_type": "slide"
    }
   },
   "source": [
    "## How do you know if your code is correct??\n",
    "- manual sanity checks\n",
    "- defensive programming: assertions within the code\n",
    "- tests"
   ]
  },
  {
   "cell_type": "code",
   "execution_count": 1,
   "metadata": {
    "ExecuteTime": {
     "end_time": "2018-09-25T05:04:19.825168Z",
     "start_time": "2018-09-25T05:04:19.815090Z"
    },
    "slideshow": {
     "slide_type": "fragment"
    }
   },
   "outputs": [],
   "source": [
    "# assertion example\n",
    "def hello_to_all(list_of_names):\n",
    "    assert len(list_of_names) > 0, 'There is no one here'\n",
    "    print('Hello {}!'.format(', '.join(list_of_names)))"
   ]
  },
  {
   "cell_type": "code",
   "execution_count": 2,
   "metadata": {
    "ExecuteTime": {
     "end_time": "2018-09-25T05:04:19.834467Z",
     "start_time": "2018-09-25T05:04:19.828784Z"
    },
    "slideshow": {
     "slide_type": "fragment"
    }
   },
   "outputs": [
    {
     "name": "stdout",
     "output_type": "stream",
     "text": [
      "Hello Ayla, Missy, Evan!\n"
     ]
    }
   ],
   "source": [
    "hello_to_all(['Ayla', 'Missy', 'Evan'])"
   ]
  },
  {
   "cell_type": "code",
   "execution_count": 3,
   "metadata": {
    "ExecuteTime": {
     "end_time": "2018-09-25T05:04:19.989773Z",
     "start_time": "2018-09-25T05:04:19.838364Z"
    },
    "slideshow": {
     "slide_type": "fragment"
    }
   },
   "outputs": [
    {
     "ename": "AssertionError",
     "evalue": "There is no one here",
     "output_type": "error",
     "traceback": [
      "\u001b[0;31m---------------------------------------------------------------------------\u001b[0m",
      "\u001b[0;31mAssertionError\u001b[0m                            Traceback (most recent call last)",
      "\u001b[0;32m<ipython-input-3-93b5dde74f37>\u001b[0m in \u001b[0;36m<module>\u001b[0;34m()\u001b[0m\n\u001b[0;32m----> 1\u001b[0;31m \u001b[0mhello_to_all\u001b[0m\u001b[0;34m(\u001b[0m\u001b[0;34m[\u001b[0m\u001b[0;34m]\u001b[0m\u001b[0;34m)\u001b[0m\u001b[0;34m\u001b[0m\u001b[0m\n\u001b[0m",
      "\u001b[0;32m<ipython-input-1-0e26ea35908e>\u001b[0m in \u001b[0;36mhello_to_all\u001b[0;34m(list_of_names)\u001b[0m\n\u001b[1;32m      1\u001b[0m \u001b[0;31m# assertion example\u001b[0m\u001b[0;34m\u001b[0m\u001b[0;34m\u001b[0m\u001b[0m\n\u001b[1;32m      2\u001b[0m \u001b[0;32mdef\u001b[0m \u001b[0mhello_to_all\u001b[0m\u001b[0;34m(\u001b[0m\u001b[0mlist_of_names\u001b[0m\u001b[0;34m)\u001b[0m\u001b[0;34m:\u001b[0m\u001b[0;34m\u001b[0m\u001b[0m\n\u001b[0;32m----> 3\u001b[0;31m     \u001b[0;32massert\u001b[0m \u001b[0mlen\u001b[0m\u001b[0;34m(\u001b[0m\u001b[0mlist_of_names\u001b[0m\u001b[0;34m)\u001b[0m \u001b[0;34m>\u001b[0m \u001b[0;36m0\u001b[0m\u001b[0;34m,\u001b[0m \u001b[0;34m'There is no one here'\u001b[0m\u001b[0;34m\u001b[0m\u001b[0m\n\u001b[0m\u001b[1;32m      4\u001b[0m     \u001b[0mprint\u001b[0m\u001b[0;34m(\u001b[0m\u001b[0;34m'Hello {}!'\u001b[0m\u001b[0;34m.\u001b[0m\u001b[0mformat\u001b[0m\u001b[0;34m(\u001b[0m\u001b[0;34m', '\u001b[0m\u001b[0;34m.\u001b[0m\u001b[0mjoin\u001b[0m\u001b[0;34m(\u001b[0m\u001b[0mlist_of_names\u001b[0m\u001b[0;34m)\u001b[0m\u001b[0;34m)\u001b[0m\u001b[0;34m)\u001b[0m\u001b[0;34m\u001b[0m\u001b[0m\n",
      "\u001b[0;31mAssertionError\u001b[0m: There is no one here"
     ]
    }
   ],
   "source": [
    "hello_to_all([])"
   ]
  },
  {
   "cell_type": "markdown",
   "metadata": {
    "slideshow": {
     "slide_type": "slide"
    }
   },
   "source": [
    "## Simple test example"
   ]
  },
  {
   "cell_type": "code",
   "execution_count": 4,
   "metadata": {
    "ExecuteTime": {
     "end_time": "2018-09-25T05:04:36.694859Z",
     "start_time": "2018-09-25T05:04:36.690874Z"
    },
    "slideshow": {
     "slide_type": "fragment"
    }
   },
   "outputs": [],
   "source": [
    "def backwards_allcaps(text):\n",
    "    return text[::-1].upper()"
   ]
  },
  {
   "cell_type": "code",
   "execution_count": 5,
   "metadata": {
    "ExecuteTime": {
     "end_time": "2018-09-25T05:04:37.078820Z",
     "start_time": "2018-09-25T05:04:37.061204Z"
    },
    "slideshow": {
     "slide_type": "fragment"
    }
   },
   "outputs": [
    {
     "data": {
      "text/plain": [
       "'SEIDALYP'"
      ]
     },
     "execution_count": 5,
     "metadata": {},
     "output_type": "execute_result"
    }
   ],
   "source": [
    "backwards_allcaps('PyLadies')"
   ]
  },
  {
   "cell_type": "code",
   "execution_count": 6,
   "metadata": {
    "ExecuteTime": {
     "end_time": "2018-09-25T05:04:37.505070Z",
     "start_time": "2018-09-25T05:04:37.501573Z"
    },
    "slideshow": {
     "slide_type": "fragment"
    }
   },
   "outputs": [],
   "source": [
    "def test_backwards_allcaps():\n",
    "    assert backwards_allcaps('python') == 'NOHTYP'\n",
    "    assert backwards_allcaps('meetup') == 'PUTEEM'"
   ]
  },
  {
   "cell_type": "markdown",
   "metadata": {
    "slideshow": {
     "slide_type": "slide"
    }
   },
   "source": [
    "## Types of tests\n",
    "\n",
    "- unit tests\n",
    "- integration tests\n",
    "- system tests"
   ]
  },
  {
   "cell_type": "markdown",
   "metadata": {
    "slideshow": {
     "slide_type": "slide"
    }
   },
   "source": [
    "## pytest is great\n",
    "\n",
    "- less boilerplate $\\rightarrow$ easier/faster test writing\n",
    "- automatically handles finding, collecting, running, and evaluating your tests\n",
    "- when tests fail you can get a lot of useful info\n",
    "- fixtures give you power and flexibility (more on this later)\n",
    "- just works (with benefits) on existing tests written for unittest or nose"
   ]
  },
  {
   "cell_type": "markdown",
   "metadata": {
    "slideshow": {
     "slide_type": "notes"
    }
   },
   "source": [
    "vs unittest requires tests to be wrapped inside classes which subclass from unittest.TestCase; pytest you just write functions with simple regular assert statements, which easier to read/write\n"
   ]
  },
  {
   "cell_type": "markdown",
   "metadata": {
    "slideshow": {
     "slide_type": "slide"
    }
   },
   "source": [
    "## When to write tests\n",
    "\n",
    "- when you write new code\n",
    "- when you make a change to your code\n",
    "- when you find a bug"
   ]
  },
  {
   "cell_type": "markdown",
   "metadata": {
    "slideshow": {
     "slide_type": "slide"
    }
   },
   "source": [
    "## Test Driven Development\n",
    "\n",
    "TDD: write the test *before* you write the code it is testing."
   ]
  },
  {
   "cell_type": "markdown",
   "metadata": {
    "slideshow": {
     "slide_type": "fragment"
    }
   },
   "source": [
    "- reasons to use TDD:\n",
    "  - makes you define your code requirements up front\n",
    "  - helps frame how you'll write the code\n",
    "  - is more fun\n",
    "- reasons to not use TDD:\n",
    "  - not always possible to define requirements up front (data exploratoration)\n",
    "  - time constraints (need quick bugfix)\n",
    "  - legacy code"
   ]
  },
  {
   "cell_type": "markdown",
   "metadata": {
    "slideshow": {
     "slide_type": "slide"
    }
   },
   "source": [
    "## Demo #1\n",
    "\n",
    "What you need:\n",
    "\n",
    "- terminal where you can run python\n",
    "- pytest library: `pip install pytest`\n",
    "- any code editor/IDE\n",
    "- open file `demo_tdd_intro.py`\n",
    "  - you can copy-paste from the file on GitHub or clone the repo\n",
    "  - https://github.com/jesford/testing-in-data-science"
   ]
  },
  {
   "cell_type": "markdown",
   "metadata": {
    "slideshow": {
     "slide_type": "skip"
    }
   },
   "source": [
    "Go do hands-on demo #1!"
   ]
  },
  {
   "cell_type": "markdown",
   "metadata": {
    "slideshow": {
     "slide_type": "slide"
    }
   },
   "source": [
    "## Demo #1\n",
    "\n",
    "We learned how to\n",
    "- write simple tests with pytest\n",
    "- do test driven development (TDD)\n",
    "- use pytest fixtures to parametrize our tests"
   ]
  },
  {
   "cell_type": "markdown",
   "metadata": {
    "slideshow": {
     "slide_type": "slide"
    }
   },
   "source": [
    "## Where do tests go?\n",
    "\n",
    "pytest searches all directories below the current directory for files that start or end with \"test\" (`test_*.py`, `*_test.py`) and runs any functions and classes like `def test_the_things()` and `class TestStuff()`.\n",
    "\n",
    "```\n",
    "myproject/\n",
    "    myproject/\n",
    "        myproject.py\n",
    "        utils.py\n",
    "        __init__.py\n",
    "    tests/\n",
    "        test_myproject.py\n",
    "    setup.py\n",
    "    README.md\n",
    "    LICENSE.txt\n",
    "```\n",
    "\n",
    "Above is a typical directory layout, but its not required. You can tell pytest where to look for tests, so really you *can* put them pretty much anywhere."
   ]
  },
  {
   "cell_type": "markdown",
   "metadata": {
    "slideshow": {
     "slide_type": "slide"
    }
   },
   "source": [
    "## Data Science Scenarios\n",
    "1. \"One-off analysis\"\n",
    "2. Exploratory\n",
    "3. Well defined problem"
   ]
  },
  {
   "cell_type": "markdown",
   "metadata": {
    "slideshow": {
     "slide_type": "fragment"
    }
   },
   "source": [
    "<ol start=\"4\">\n",
    "  <li>Legacy code: you inherit a large amount of legacy code written by a predecessor that will need to be maintained and potentially updated over time.</li>\n",
    "</ol>"
   ]
  },
  {
   "cell_type": "markdown",
   "metadata": {
    "slideshow": {
     "slide_type": "slide"
    }
   },
   "source": [
    "## Data Science Scenarios\n",
    "1. \"One-off analysis\"\n",
    "2. **Exploratory**  $\\leftarrow$\n",
    "3. Well defined problem\n",
    "4. **Legacy code**  $\\leftarrow$\n",
    "\n",
    "Number 3 is simple - you should write tests as you develop your code.\n",
    "\n",
    "But the other cases often put you in a **legacy code scenario** where you have a bunch of code without any tests! Once you realize you will need to reuse code, you should start adding tests whenever you modify it."
   ]
  },
  {
   "cell_type": "markdown",
   "metadata": {
    "ExecuteTime": {
     "end_time": "2018-09-23T20:37:14.273763Z",
     "start_time": "2018-09-23T20:37:14.271067Z"
    },
    "slideshow": {
     "slide_type": "skip"
    }
   },
   "source": [
    "## Demo #2\n",
    "\n",
    "Working with legacy code... even your own! Legacy code = any existing shared or re-used code without tests."
   ]
  },
  {
   "cell_type": "markdown",
   "metadata": {
    "slideshow": {
     "slide_type": "skip"
    }
   },
   "source": [
    "Go do hands-on demo #2!"
   ]
  },
  {
   "cell_type": "markdown",
   "metadata": {
    "slideshow": {
     "slide_type": "skip"
    }
   },
   "source": [
    "## Demo #2\n",
    "\n",
    "We practiced adding tests to legacy code\n",
    "- while fixing bugs\n",
    "- while adding new features\n",
    "\n",
    "$\\rightarrow$ Getting good test coverage on legacy code can be daunting, and might be worth it... or not. But if you're pretty sure the code is currently working, at least make sure that none of your changes will break it."
   ]
  },
  {
   "cell_type": "markdown",
   "metadata": {
    "slideshow": {
     "slide_type": "slide"
    }
   },
   "source": [
    "## A few slightly more advanced pytest features..."
   ]
  },
  {
   "cell_type": "markdown",
   "metadata": {
    "slideshow": {
     "slide_type": "slide"
    }
   },
   "source": [
    "## tmpdir\n",
    "\n",
    "- Create temporary directories and files that your tests need\n",
    "- automatically removed after the tests are completed\n",
    "- See also tmpdir_factory"
   ]
  },
  {
   "cell_type": "code",
   "execution_count": 7,
   "metadata": {
    "ExecuteTime": {
     "end_time": "2018-09-25T05:04:46.216206Z",
     "start_time": "2018-09-25T05:04:46.210188Z"
    },
    "slideshow": {
     "slide_type": "fragment"
    }
   },
   "outputs": [],
   "source": [
    "# example from pytest documentation\n",
    "\n",
    "def test_create_file(tmpdir):\n",
    "    p = tmpdir.mkdir(\"sub\").join(\"hello.txt\")\n",
    "    p.write(\"content\")\n",
    "    assert p.read() == \"content\"\n",
    "    assert len(tmpdir.listdir()) == 1"
   ]
  },
  {
   "cell_type": "markdown",
   "metadata": {
    "slideshow": {
     "slide_type": "slide"
    }
   },
   "source": [
    "## mark\n",
    "\n",
    "you can organize your tests using marks - there are a few built in ones, and you can create your own"
   ]
  },
  {
   "cell_type": "code",
   "execution_count": 8,
   "metadata": {
    "ExecuteTime": {
     "end_time": "2018-09-25T05:04:48.266387Z",
     "start_time": "2018-09-25T05:04:48.198060Z"
    },
    "slideshow": {
     "slide_type": "fragment"
    }
   },
   "outputs": [],
   "source": [
    "import pytest\n",
    "import sys\n",
    "\n",
    "\n",
    "@pytest.mark.skip\n",
    "def test_always_skip():\n",
    "    pass\n",
    "\n",
    "\n",
    "@pytest.mark.skipif(sys.platform == 'darwin',\n",
    "                    reason='Feature not supported on OS X')\n",
    "def test_not_on_mac():\n",
    "    pass\n",
    "\n",
    "\n",
    "@pytest.mark.slow  # custom mark\n",
    "def test_that_takes_a_long_time():\n",
    "    pass"
   ]
  },
  {
   "cell_type": "markdown",
   "metadata": {
    "slideshow": {
     "slide_type": "fragment"
    }
   },
   "source": [
    "```sh\n",
    "$ pytest -m slow\n",
    "```"
   ]
  },
  {
   "cell_type": "markdown",
   "metadata": {
    "slideshow": {
     "slide_type": "slide"
    }
   },
   "source": [
    "## More on fixtures\n",
    "\n",
    "- we already used fixtures to parametrize our tests\n",
    "- many other uses\n",
    "- keeps execution of a test separate from anything else thats needed, so the test function itself is as simple and clear as possible\n",
    "- can optionally have scope, so is only run once per session, module, etc"
   ]
  },
  {
   "cell_type": "code",
   "execution_count": 9,
   "metadata": {
    "ExecuteTime": {
     "end_time": "2018-09-25T05:04:56.101947Z",
     "start_time": "2018-09-25T05:04:56.089810Z"
    },
    "slideshow": {
     "slide_type": "fragment"
    }
   },
   "outputs": [],
   "source": [
    "# example from pytest documentation\n",
    "\n",
    "import smtplib\n",
    "import pytest\n",
    "\n",
    "\n",
    "@pytest.fixture(scope=\"module\")\n",
    "def smtp_connection(request):\n",
    "    smtp_connection = smtplib.SMTP(\"smtp.gmail.com\", 587, timeout=5)\n",
    "\n",
    "    def fin():\n",
    "        # teardown smtp_connection\n",
    "        smtp_connection.close()\n",
    "\n",
    "    request.addfinalizer(fin)\n",
    "    return smtp_connection  # provide the fixture value"
   ]
  },
  {
   "cell_type": "markdown",
   "metadata": {
    "slideshow": {
     "slide_type": "slide"
    }
   },
   "source": [
    "## parametrize"
   ]
  },
  {
   "cell_type": "code",
   "execution_count": 10,
   "metadata": {
    "ExecuteTime": {
     "end_time": "2018-09-25T05:05:00.904083Z",
     "start_time": "2018-09-25T05:05:00.891064Z"
    },
    "slideshow": {
     "slide_type": "fragment"
    }
   },
   "outputs": [],
   "source": [
    "# example from pytest documentation\n",
    "\n",
    "import pytest\n",
    "\n",
    "\n",
    "@pytest.mark.parametrize(\"x, y\", [(0, 1), (2, 3)])\n",
    "def test_foo(x, y):\n",
    "    assert x + 1 == y\n",
    "\n",
    "\n",
    "@pytest.mark.parametrize(\"x\", [0, 1])\n",
    "@pytest.mark.parametrize(\"y\", [2, 3])\n",
    "def test_more_foo(x, y):\n",
    "    pass  # all combinations of x, y"
   ]
  },
  {
   "cell_type": "markdown",
   "metadata": {
    "slideshow": {
     "slide_type": "slide"
    }
   },
   "source": [
    "## pandas testing utils"
   ]
  },
  {
   "cell_type": "code",
   "execution_count": null,
   "metadata": {
    "ExecuteTime": {
     "end_time": "2018-09-25T05:04:20.003067Z",
     "start_time": "2018-09-25T05:04:19.868Z"
    },
    "slideshow": {
     "slide_type": "fragment"
    }
   },
   "outputs": [],
   "source": [
    "from pandas.util.testing import assert_frame_equal\n",
    "from pandas.util.testing import assert_index_equal\n",
    "from pandas.util.testing import assert_series_equal\n",
    "\n",
    "assert_frame_equal(df1, df2,\n",
    "                   check_like=True,       # order of columns/rows doesn't matter\n",
    "                   check_dtype=False,     # check for identical data types\n",
    "                   check_less_precise=4)  # number of digits to compare"
   ]
  },
  {
   "cell_type": "markdown",
   "metadata": {
    "slideshow": {
     "slide_type": "slide"
    }
   },
   "source": [
    "## mocker\n",
    "\n",
    "pytest-mock is a plugin that lets you patch or swap out one piece of code for another"
   ]
  },
  {
   "cell_type": "markdown",
   "metadata": {
    "slideshow": {
     "slide_type": "slide"
    }
   },
   "source": [
    "## mocker example"
   ]
  },
  {
   "cell_type": "code",
   "execution_count": null,
   "metadata": {
    "ExecuteTime": {
     "end_time": "2018-09-25T05:04:20.005065Z",
     "start_time": "2018-09-25T05:04:19.872Z"
    },
    "slideshow": {
     "slide_type": "-"
    }
   },
   "outputs": [],
   "source": [
    "# my_data_loader.py\n",
    "\n",
    "import pandas as pd\n",
    "import query_database\n",
    "\n",
    "\n",
    "def load_data(condition=''):\n",
    "    sql_query = f'select id, type, val from some_table {condition}'\n",
    "    df_raw = query_database(sql_query)\n",
    "    df = pd.get_dummies(df_raw, columns=['type'])\n",
    "    df.index = df.pop('id')\n",
    "    return df"
   ]
  },
  {
   "cell_type": "code",
   "execution_count": null,
   "metadata": {
    "ExecuteTime": {
     "end_time": "2018-09-25T05:04:20.006668Z",
     "start_time": "2018-09-25T05:04:19.876Z"
    },
    "slideshow": {
     "slide_type": "-"
    }
   },
   "outputs": [],
   "source": [
    "# test_data_loader.py\n",
    "\n",
    "import pytest\n",
    "import my_data_loader\n",
    "from pandas.util.testing import assert_frame_equal\n",
    "\n",
    "\n",
    "@pytest.fixture(params=[{'condition': 'where val > 100', 'output': out1}])\n",
    "def sample_data(request):\n",
    "    return request.param\n",
    "\n",
    "\n",
    "def test_load_data(sample_data):\n",
    "    # problem: we might not want to query the DB as part of our tests\n",
    "    output = my_data_loader.load_data(sample_data['condition'])\n",
    "    assert assert_frame_equal(output, sample_data['output'])"
   ]
  },
  {
   "cell_type": "markdown",
   "metadata": {
    "slideshow": {
     "slide_type": "slide"
    }
   },
   "source": [
    "## mocker example cont."
   ]
  },
  {
   "cell_type": "code",
   "execution_count": null,
   "metadata": {
    "ExecuteTime": {
     "end_time": "2018-09-25T05:04:20.008111Z",
     "start_time": "2018-09-25T05:04:19.881Z"
    },
    "slideshow": {
     "slide_type": "-"
    }
   },
   "outputs": [],
   "source": [
    "# my_data_loader.py\n",
    "\n",
    "import pandas as pd\n",
    "import query_database\n",
    "\n",
    "\n",
    "def load_data(condition=''):\n",
    "    sql_query = f'select id, type, val from some_table {condition}'\n",
    "    df_raw = query_database(db_conn, sql_query)\n",
    "    df = pd.get_dummies(df_raw, columns=['type'])\n",
    "    df.index = df.pop('id')\n",
    "    return df"
   ]
  },
  {
   "cell_type": "code",
   "execution_count": null,
   "metadata": {
    "ExecuteTime": {
     "end_time": "2018-09-25T05:04:20.009570Z",
     "start_time": "2018-09-25T05:04:19.887Z"
    },
    "slideshow": {
     "slide_type": "-"
    }
   },
   "outputs": [],
   "source": [
    "# test_data_loader.py\n",
    "\n",
    "import pytest\n",
    "import my_data_loader\n",
    "from pandas.util.testing import assert_frame_equal\n",
    "\n",
    "\n",
    "@pytest.fixture(params=[{'input': in1, 'output': out1}])\n",
    "def sample_data(request):\n",
    "    return request.param\n",
    "\n",
    "\n",
    "def test_load_data(sample_data, mocker):\n",
    "    mocker.patch('my_data_loader.query_database',\n",
    "                 side_effect=lambda x: sample_data['input'])\n",
    "    output = my_data_loader.load_data('')\n",
    "    assert_frame_equal(output, sample_data['output'])"
   ]
  },
  {
   "cell_type": "markdown",
   "metadata": {
    "slideshow": {
     "slide_type": "slide"
    }
   },
   "source": [
    "## Wrap up\n",
    "\n",
    "- data scientists should not *always* write tests\n",
    "- any reused or shared piece of code should probably be tested\n",
    "- strive for a balance between speed and confidence in your results"
   ]
  },
  {
   "cell_type": "markdown",
   "metadata": {
    "slideshow": {
     "slide_type": "fragment"
    }
   },
   "source": [
    "### Some aspects of data science code are really hard to test!\n",
    "\n",
    "- ML results? probabilistic outcomes?\n",
    "- Think about testing properties of your data\n",
    "  - distributions, missing data, expected features and datatypes"
   ]
  },
  {
   "cell_type": "markdown",
   "metadata": {
    "slideshow": {
     "slide_type": "slide"
    }
   },
   "source": [
    "### Cool related projects to be aware of\n",
    "\n",
    "- [pytest-xdist](https://docs.pytest.org/en/3.0.1/xdist.html) plugin for pytest so you can run tests faster in parallel\n",
    "- [pytest-cov](https://pytest-cov.readthedocs.io/en/latest/index.html) plugin for measuring test coverage\n",
    "- [engarde](https://engarde.readthedocs.io/en/latest/index.html) for defensive data analysis with pandas\n",
    "- [Hypothesis](https://hypothesis.readthedocs.io/en/latest/) for property-based testing and testing your code with many inputs and edge cases"
   ]
  },
  {
   "cell_type": "markdown",
   "metadata": {
    "slideshow": {
     "slide_type": "slide"
    }
   },
   "source": [
    "### Resources & Credits\n",
    "\n",
    "- **General testing resources**\n",
    "  - Andreas Pelme's [Introduction to pytest](https://www.youtube.com/watch?v=LdVJj65ikRY) from EuroPython 2014\n",
    "  - Mark Vousden's [Python testing](https://www.youtube.com/channel/UCKaKhMyhboLoMwmeF9yxg9w) 3-part series of youtube videos\n",
    "  - Justin Crown's [\"WHAT IS THIS MESS?\" - Writing tests for pre-existing code bases](https://www.youtube.com/watch?v=LDdUuoI_lIg) from PyCon 2017\n",
    "  - Ned Batchelder's [Getting Started Testing](https://www.youtube.com/watch?v=FxSsnHeWQBY) from PyCon 2014 (focuses on unittest)\n",
    "\n",
    "- **Data Science specific resources**\n",
    "  - Trey Causey's [Testing for Data Scientists](https://www.youtube.com/watch?v=GEqM9uJi64Q) from PyData Seattle 2015\n",
    "  - Eric Ma's [Best Testing Practice's for Data Science Tutorial](https://www.youtube.com/watch?v=yACtdj1_IxE) from PyCon 2017, with GitHub notebooks [here](https://github.com/ericmjl/data-testing-tutorial)"
   ]
  },
  {
   "cell_type": "markdown",
   "metadata": {
    "slideshow": {
     "slide_type": "slide"
    }
   },
   "source": [
    "## Questions?"
   ]
  }
 ],
 "metadata": {
  "celltoolbar": "Slideshow",
  "kernelspec": {
   "display_name": "Python 3",
   "language": "python",
   "name": "python3"
  },
  "language_info": {
   "codemirror_mode": {
    "name": "ipython",
    "version": 3
   },
   "file_extension": ".py",
   "mimetype": "text/x-python",
   "name": "python",
   "nbconvert_exporter": "python",
   "pygments_lexer": "ipython3",
   "version": "3.6.2"
  }
 },
 "nbformat": 4,
 "nbformat_minor": 2
}
