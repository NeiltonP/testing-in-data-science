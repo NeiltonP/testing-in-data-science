{
 "cells": [
  {
   "cell_type": "markdown",
   "metadata": {},
   "source": [
    "# Step-by-step demo walk through\n",
    "\n",
    "The testing demos are intended to be done in a code editor/IDE, and the tests run from the command line after each step with `pytest demo_tdd_intro.py`. Below each of the steps are laid out to guide the tutorial leader. I prefer to print this out so I can refer to it while I live code each step over a projector along with the attendees.\n",
    "\n",
    "---\n",
    "\n",
    "## TDD Demo"
   ]
  },
  {
   "cell_type": "code",
   "execution_count": 3,
   "metadata": {
    "ExecuteTime": {
     "end_time": "2018-09-23T19:13:45.750106Z",
     "start_time": "2018-09-23T19:13:45.743968Z"
    }
   },
   "outputs": [],
   "source": [
    "# initial code\n",
    "\n",
    "def backwards_allcaps(text):\n",
    "    return text[::-1].upper()\n",
    "\n",
    "\n",
    "def test_backwards_allcaps():\n",
    "    assert backwards_allcaps('python') == 'NOHTYP'\n",
    "    assert backwards_allcaps('meetup') == 'PUTEEM'"
   ]
  },
  {
   "cell_type": "code",
   "execution_count": 4,
   "metadata": {
    "ExecuteTime": {
     "end_time": "2018-09-23T19:13:46.362495Z",
     "start_time": "2018-09-23T19:13:46.359366Z"
    }
   },
   "outputs": [],
   "source": [
    "test_backwards_allcaps()"
   ]
  },
  {
   "cell_type": "markdown",
   "metadata": {},
   "source": [
    "### TDD task 1: whitespace should be removed from any input text"
   ]
  },
  {
   "cell_type": "code",
   "execution_count": 5,
   "metadata": {
    "ExecuteTime": {
     "end_time": "2018-09-23T19:14:37.140838Z",
     "start_time": "2018-09-23T19:14:37.132875Z"
    }
   },
   "outputs": [],
   "source": [
    "def backwards_allcaps(text):\n",
    "    return text[::-1].replace(' ', '').upper()            # step 2\n",
    "\n",
    "\n",
    "def test_backwards_allcaps():\n",
    "    assert backwards_allcaps('python') == 'NOHTYP'\n",
    "    assert backwards_allcaps('meetup') == 'PUTEEM'\n",
    "\n",
    "\n",
    "def test_letters_only():\n",
    "    assert backwards_allcaps('salt lake') == 'EKALTLAS'    # step 1"
   ]
  },
  {
   "cell_type": "code",
   "execution_count": 6,
   "metadata": {
    "ExecuteTime": {
     "end_time": "2018-09-23T19:14:37.757501Z",
     "start_time": "2018-09-23T19:14:37.754452Z"
    }
   },
   "outputs": [],
   "source": [
    "test_backwards_allcaps()\n",
    "test_letters_only()"
   ]
  },
  {
   "cell_type": "markdown",
   "metadata": {},
   "source": [
    "### TDD task 2: punctuation should also be removed"
   ]
  },
  {
   "cell_type": "code",
   "execution_count": 11,
   "metadata": {
    "ExecuteTime": {
     "end_time": "2018-09-23T19:28:22.268017Z",
     "start_time": "2018-09-23T19:28:22.255933Z"
    }
   },
   "outputs": [],
   "source": [
    "import string                                                          # step 2\n",
    "\n",
    "def backwards_allcaps(text):\n",
    "    for char in string.punctuation:                                    # step 2\n",
    "        text = text.replace(char, '')                                  # step 2\n",
    "    return text[::-1].replace(' ', '').upper()\n",
    "\n",
    "\n",
    "def test_backwards_allcaps():\n",
    "    assert backwards_allcaps('python') == 'NOHTYP'\n",
    "    assert backwards_allcaps('meetup') == 'PUTEEM'\n",
    "\n",
    "\n",
    "def test_letters_only():\n",
    "    assert backwards_allcaps('salt lake') == 'EKALTLAS'\n",
    "    assert backwards_allcaps('github.com is rad!') == 'DARSIMOCBUHTIG'  # step 1"
   ]
  },
  {
   "cell_type": "code",
   "execution_count": 12,
   "metadata": {
    "ExecuteTime": {
     "end_time": "2018-09-23T19:28:23.425412Z",
     "start_time": "2018-09-23T19:28:23.422193Z"
    }
   },
   "outputs": [],
   "source": [
    "test_backwards_allcaps()\n",
    "test_letters_only()"
   ]
  },
  {
   "cell_type": "markdown",
   "metadata": {},
   "source": [
    "### TDD task 3: passing an empty string should raise an error"
   ]
  },
  {
   "cell_type": "code",
   "execution_count": 13,
   "metadata": {
    "ExecuteTime": {
     "end_time": "2018-09-23T19:28:26.258465Z",
     "start_time": "2018-09-23T19:28:26.186877Z"
    }
   },
   "outputs": [],
   "source": [
    "import pytest                                                # step 2\n",
    "import string\n",
    "\n",
    "def backwards_allcaps(text):\n",
    "    if len(text) == 0:                                       # step 2\n",
    "        raise AttributeError('String must contain letters')  # step 2\n",
    "    for char in string.punctuation:\n",
    "        text = text.replace(char, '')\n",
    "    return text[::-1].replace(' ', '').upper()\n",
    "\n",
    "\n",
    "def test_backwards_allcaps():\n",
    "    assert backwards_allcaps('python') == 'NOHTYP'\n",
    "    assert backwards_allcaps('meetup') == 'PUTEEM'\n",
    "\n",
    "\n",
    "def test_letters_only():\n",
    "    assert backwards_allcaps('salt lake') == 'EKALTLAS'\n",
    "    assert backwards_allcaps('github.com is rad!') == 'DARSIMOCBUHTIG'\n",
    "\n",
    "\n",
    "def test_empty_string():                                     # step 1\n",
    "    with pytest.raises(AttributeError):\n",
    "        backwards_allcaps('')"
   ]
  },
  {
   "cell_type": "code",
   "execution_count": 14,
   "metadata": {
    "ExecuteTime": {
     "end_time": "2018-09-23T19:28:37.547104Z",
     "start_time": "2018-09-23T19:28:37.542564Z"
    }
   },
   "outputs": [],
   "source": [
    "test_backwards_allcaps()\n",
    "test_letters_only()\n",
    "test_empty_string()"
   ]
  },
  {
   "cell_type": "markdown",
   "metadata": {},
   "source": [
    "### TDD task 3b: passing a string without letters should raise an error"
   ]
  },
  {
   "cell_type": "code",
   "execution_count": 23,
   "metadata": {
    "ExecuteTime": {
     "end_time": "2018-09-23T19:35:04.488838Z",
     "start_time": "2018-09-23T19:35:04.459484Z"
    }
   },
   "outputs": [],
   "source": [
    "import pytest\n",
    "import string\n",
    "\n",
    "def backwards_allcaps(text):\n",
    "    text = text.replace(' ', '')                             # step 2 - move section\n",
    "    for char in string.punctuation:\n",
    "        text = text.replace(char, '')\n",
    "    if len(text) == 0:                                       # step 2 - move section\n",
    "        raise AttributeError('String must contain letters')\n",
    "    return text[::-1].upper()\n",
    "\n",
    "\n",
    "def test_backwards_allcaps():\n",
    "    assert backwards_allcaps('python') == 'NOHTYP'\n",
    "    assert backwards_allcaps('meetup') == 'PUTEEM'\n",
    "\n",
    "\n",
    "def test_letters_only():\n",
    "    assert backwards_allcaps('salt lake') == 'EKALTLAS'\n",
    "    assert backwards_allcaps('github.com is rad!') == 'DARSIMOCBUHTIG'\n",
    "\n",
    "\n",
    "def test_empty_string():\n",
    "    with pytest.raises(AttributeError):\n",
    "        backwards_allcaps('')\n",
    "    with pytest.raises(AttributeError):                     # step 1\n",
    "        backwards_allcaps(';')                              # step 1\n",
    "    with pytest.raises(AttributeError):                     # step 1\n",
    "        backwards_allcaps(' ')                              # step 1"
   ]
  },
  {
   "cell_type": "code",
   "execution_count": 24,
   "metadata": {
    "ExecuteTime": {
     "end_time": "2018-09-23T19:35:04.948034Z",
     "start_time": "2018-09-23T19:35:04.943839Z"
    }
   },
   "outputs": [],
   "source": [
    "test_backwards_allcaps()\n",
    "test_letters_only()\n",
    "test_empty_string()"
   ]
  },
  {
   "cell_type": "markdown",
   "metadata": {},
   "source": [
    "## Fixtures Demo\n",
    "Most of the tests we have written use the same pattern of asserting that our function run on some input gives us an expected output. Instead of reusing this same assert pattern repeatedly we would like a way to avoid duplicating code. Additionally, each assert statement can be thought of as a unique test, but with the current set up pytest treats each \n",
    "\n",
    "can employ fixtures to parametrize a set of inputs and outputs."
   ]
  },
  {
   "cell_type": "code",
   "execution_count": null,
   "metadata": {},
   "outputs": [],
   "source": [
    "@pytest.fixture"
   ]
  }
 ],
 "metadata": {
  "kernelspec": {
   "display_name": "Python 3",
   "language": "python",
   "name": "python3"
  },
  "language_info": {
   "codemirror_mode": {
    "name": "ipython",
    "version": 3
   },
   "file_extension": ".py",
   "mimetype": "text/x-python",
   "name": "python",
   "nbconvert_exporter": "python",
   "pygments_lexer": "ipython3",
   "version": "3.6.2"
  }
 },
 "nbformat": 4,
 "nbformat_minor": 2
}
