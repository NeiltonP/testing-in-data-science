{
 "cells": [
  {
   "cell_type": "markdown",
   "metadata": {},
   "source": [
    "# The Role of Testing in Data Science\n",
    "\n",
    "Jes Ford, PhD\n",
    "\n",
    "Data Scientist\n",
    "\n",
    "<img src=\"img/pytest.png\">"
   ]
  },
  {
   "cell_type": "markdown",
   "metadata": {
    "collapsed": true
   },
   "source": [
    "## About Me\n",
    "- Originally from AK, have followed the snow all around the western US/Canada\n",
    "- PhD in Physics from UBC, Vancouver\n",
    "- Postdoc in Data Science at UW, Seattle\n",
    "- Data Scientist at Backountry.com $\\rightarrow$ now at Recursion Pharma\n",
    "- I love teaching and learning about most things including Python\n",
    "- I organize this meetup\n",
    "\n",
    "<img src=\"img/toki_lions.jpg\">"
   ]
  },
  {
   "cell_type": "markdown",
   "metadata": {},
   "source": [
    "## Why talk about testing?\n",
    "### I care about code quality\n",
    "... clean code that is easy to read\\* and **getting correct results**\n",
    "\n",
    "\\* topic for another day: PEP8, code is read much more often than it is written!"
   ]
  },
  {
   "cell_type": "markdown",
   "metadata": {},
   "source": [
    "## How do you know when your code is correct??"
   ]
  }
 ],
 "metadata": {
  "kernelspec": {
   "display_name": "Python 3",
   "language": "python",
   "name": "python3"
  },
  "language_info": {
   "codemirror_mode": {
    "name": "ipython",
    "version": 3
   },
   "file_extension": ".py",
   "mimetype": "text/x-python",
   "name": "python",
   "nbconvert_exporter": "python",
   "pygments_lexer": "ipython3",
   "version": "3.6.2"
  }
 },
 "nbformat": 4,
 "nbformat_minor": 2
}
